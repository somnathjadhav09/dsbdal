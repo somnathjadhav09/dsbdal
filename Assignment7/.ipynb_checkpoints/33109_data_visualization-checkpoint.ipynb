{
 "cells": [
  {
   "cell_type": "markdown",
   "id": "c62e484b",
   "metadata": {},
   "source": [
    "<center><h1>Assignment 7</h1></center>\n",
    "\n",
    "## Details\n",
    "1. Author : Shivendra Bhonsle\n",
    "2. Roll Number : 33109\n",
    "3. Batch : K9\n",
    "4. Class : TE9\n",
    "\n",
    "## Problem Statement\n",
    "### Visualize the data using Python libraries matplotlib, seaborn by plotting the graphs for assignment no. 2 and 3\n",
    "\n",
    "## Implementation details\n",
    "1. Dataset URLs\n",
    "    1. Facebook metrics : https://archive.ics.uci.edu/ml/datasets/Facebook+metrics\n",
    "    2. Heart Disease : https://archive.ics.uci.edu/ml/datasets/Heart+Disease\n",
    "2. Python version : 3.7.4\n",
    "3. Imports :\n",
    "    1. pandas\n",
    "    2. numpy\n",
    "    3. matplotlib\n",
    "    4. seaborn\n",
    "\n",
    "### Dataset details\n",
    "\n",
    "1. Facebook Metrics :\n",
    "    1. Given dataset is a representative of some of the Facebook metrics which are assosciated with the posts on social media.\n",
    "    2. These metrics are indicative of the engagement of the users with the corresponding post.\n",
    "    3. It includes various types of posts and their details\n",
    "<br>\n",
    "<br>\n",
    "2. Heart Disease Dataset : \n",
    "    1. This database contains 76 attributes, but all published experiments refer to using a subset of 14 of them. In particular, the Cleveland database is the only one that has been used by ML researchers to this date.\n",
    "    2. The \"goal\" field refers to the presence of heart disease in the patient.\n",
    "    3. It is integer valued from 0 (no presence) to 4. Experiments with the Cleveland database have concentrated on simply attempting to distinguish presence (values 1,2,3,4) from absence (value 0).\n",
    "    4. The names and social security numbers of the patients were recently removed from the database, replaced with dummy values"
   ]
  },
  {
   "cell_type": "markdown",
   "id": "f9a619bc",
   "metadata": {},
   "source": [
    "# Importing required libraries"
   ]
  },
  {
   "cell_type": "code",
   "execution_count": 1,
   "id": "07b0b355",
   "metadata": {},
   "outputs": [],
   "source": [
    "import numpy as np\n",
    "import pandas as pd\n",
    "import matplotlib.pyplot as plt\n",
    "import seaborn as sns\n",
    "sns.set()\n",
    "%matplotlib inline"
   ]
  },
  {
   "cell_type": "markdown",
   "id": "e830b6bb",
   "metadata": {},
   "source": [
    "# A) Visualization for Facebook metrics dataset"
   ]
  },
  {
   "cell_type": "markdown",
   "id": "a0d01ac6",
   "metadata": {},
   "source": [
    "# 1) Loading the dataset"
   ]
  },
  {
   "cell_type": "code",
   "execution_count": 2,
   "id": "c0eeff75",
   "metadata": {},
   "outputs": [
    {
     "data": {
      "text/html": [
       "<div>\n",
       "<style scoped>\n",
       "    .dataframe tbody tr th:only-of-type {\n",
       "        vertical-align: middle;\n",
       "    }\n",
       "\n",
       "    .dataframe tbody tr th {\n",
       "        vertical-align: top;\n",
       "    }\n",
       "\n",
       "    .dataframe thead th {\n",
       "        text-align: right;\n",
       "    }\n",
       "</style>\n",
       "<table border=\"1\" class=\"dataframe\">\n",
       "  <thead>\n",
       "    <tr style=\"text-align: right;\">\n",
       "      <th></th>\n",
       "      <th>Page total likes</th>\n",
       "      <th>Type</th>\n",
       "      <th>Category</th>\n",
       "      <th>Post Month</th>\n",
       "      <th>Post Weekday</th>\n",
       "      <th>Post Hour</th>\n",
       "      <th>Paid</th>\n",
       "      <th>Lifetime Post Total Reach</th>\n",
       "      <th>Lifetime Post Total Impressions</th>\n",
       "      <th>Lifetime Engaged Users</th>\n",
       "      <th>Lifetime Post Consumers</th>\n",
       "      <th>Lifetime Post Consumptions</th>\n",
       "      <th>Lifetime Post Impressions by people who have liked your Page</th>\n",
       "      <th>Lifetime Post reach by people who like your Page</th>\n",
       "      <th>Lifetime People who have liked your Page and engaged with your post</th>\n",
       "      <th>comment</th>\n",
       "      <th>like</th>\n",
       "      <th>share</th>\n",
       "      <th>Total Interactions</th>\n",
       "    </tr>\n",
       "  </thead>\n",
       "  <tbody>\n",
       "    <tr>\n",
       "      <th>0</th>\n",
       "      <td>139441</td>\n",
       "      <td>Photo</td>\n",
       "      <td>2</td>\n",
       "      <td>12</td>\n",
       "      <td>4</td>\n",
       "      <td>3</td>\n",
       "      <td>0.0</td>\n",
       "      <td>2752</td>\n",
       "      <td>5091</td>\n",
       "      <td>178</td>\n",
       "      <td>109</td>\n",
       "      <td>159</td>\n",
       "      <td>3078</td>\n",
       "      <td>1640</td>\n",
       "      <td>119</td>\n",
       "      <td>4</td>\n",
       "      <td>79.0</td>\n",
       "      <td>17.0</td>\n",
       "      <td>100</td>\n",
       "    </tr>\n",
       "    <tr>\n",
       "      <th>1</th>\n",
       "      <td>139441</td>\n",
       "      <td>Status</td>\n",
       "      <td>2</td>\n",
       "      <td>12</td>\n",
       "      <td>3</td>\n",
       "      <td>10</td>\n",
       "      <td>0.0</td>\n",
       "      <td>10460</td>\n",
       "      <td>19057</td>\n",
       "      <td>1457</td>\n",
       "      <td>1361</td>\n",
       "      <td>1674</td>\n",
       "      <td>11710</td>\n",
       "      <td>6112</td>\n",
       "      <td>1108</td>\n",
       "      <td>5</td>\n",
       "      <td>130.0</td>\n",
       "      <td>29.0</td>\n",
       "      <td>164</td>\n",
       "    </tr>\n",
       "    <tr>\n",
       "      <th>2</th>\n",
       "      <td>139441</td>\n",
       "      <td>Photo</td>\n",
       "      <td>3</td>\n",
       "      <td>12</td>\n",
       "      <td>3</td>\n",
       "      <td>3</td>\n",
       "      <td>0.0</td>\n",
       "      <td>2413</td>\n",
       "      <td>4373</td>\n",
       "      <td>177</td>\n",
       "      <td>113</td>\n",
       "      <td>154</td>\n",
       "      <td>2812</td>\n",
       "      <td>1503</td>\n",
       "      <td>132</td>\n",
       "      <td>0</td>\n",
       "      <td>66.0</td>\n",
       "      <td>14.0</td>\n",
       "      <td>80</td>\n",
       "    </tr>\n",
       "    <tr>\n",
       "      <th>3</th>\n",
       "      <td>139441</td>\n",
       "      <td>Photo</td>\n",
       "      <td>2</td>\n",
       "      <td>12</td>\n",
       "      <td>2</td>\n",
       "      <td>10</td>\n",
       "      <td>1.0</td>\n",
       "      <td>50128</td>\n",
       "      <td>87991</td>\n",
       "      <td>2211</td>\n",
       "      <td>790</td>\n",
       "      <td>1119</td>\n",
       "      <td>61027</td>\n",
       "      <td>32048</td>\n",
       "      <td>1386</td>\n",
       "      <td>58</td>\n",
       "      <td>1572.0</td>\n",
       "      <td>147.0</td>\n",
       "      <td>1777</td>\n",
       "    </tr>\n",
       "    <tr>\n",
       "      <th>4</th>\n",
       "      <td>139441</td>\n",
       "      <td>Photo</td>\n",
       "      <td>2</td>\n",
       "      <td>12</td>\n",
       "      <td>2</td>\n",
       "      <td>3</td>\n",
       "      <td>0.0</td>\n",
       "      <td>7244</td>\n",
       "      <td>13594</td>\n",
       "      <td>671</td>\n",
       "      <td>410</td>\n",
       "      <td>580</td>\n",
       "      <td>6228</td>\n",
       "      <td>3200</td>\n",
       "      <td>396</td>\n",
       "      <td>19</td>\n",
       "      <td>325.0</td>\n",
       "      <td>49.0</td>\n",
       "      <td>393</td>\n",
       "    </tr>\n",
       "  </tbody>\n",
       "</table>\n",
       "</div>"
      ],
      "text/plain": [
       "   Page total likes    Type  Category  Post Month  Post Weekday  Post Hour  \\\n",
       "0            139441   Photo         2          12             4          3   \n",
       "1            139441  Status         2          12             3         10   \n",
       "2            139441   Photo         3          12             3          3   \n",
       "3            139441   Photo         2          12             2         10   \n",
       "4            139441   Photo         2          12             2          3   \n",
       "\n",
       "   Paid  Lifetime Post Total Reach  Lifetime Post Total Impressions  \\\n",
       "0   0.0                       2752                             5091   \n",
       "1   0.0                      10460                            19057   \n",
       "2   0.0                       2413                             4373   \n",
       "3   1.0                      50128                            87991   \n",
       "4   0.0                       7244                            13594   \n",
       "\n",
       "   Lifetime Engaged Users  Lifetime Post Consumers  \\\n",
       "0                     178                      109   \n",
       "1                    1457                     1361   \n",
       "2                     177                      113   \n",
       "3                    2211                      790   \n",
       "4                     671                      410   \n",
       "\n",
       "   Lifetime Post Consumptions  \\\n",
       "0                         159   \n",
       "1                        1674   \n",
       "2                         154   \n",
       "3                        1119   \n",
       "4                         580   \n",
       "\n",
       "   Lifetime Post Impressions by people who have liked your Page  \\\n",
       "0                                               3078              \n",
       "1                                              11710              \n",
       "2                                               2812              \n",
       "3                                              61027              \n",
       "4                                               6228              \n",
       "\n",
       "   Lifetime Post reach by people who like your Page  \\\n",
       "0                                              1640   \n",
       "1                                              6112   \n",
       "2                                              1503   \n",
       "3                                             32048   \n",
       "4                                              3200   \n",
       "\n",
       "   Lifetime People who have liked your Page and engaged with your post  \\\n",
       "0                                                119                     \n",
       "1                                               1108                     \n",
       "2                                                132                     \n",
       "3                                               1386                     \n",
       "4                                                396                     \n",
       "\n",
       "   comment    like  share  Total Interactions  \n",
       "0        4    79.0   17.0                 100  \n",
       "1        5   130.0   29.0                 164  \n",
       "2        0    66.0   14.0                  80  \n",
       "3       58  1572.0  147.0                1777  \n",
       "4       19   325.0   49.0                 393  "
      ]
     },
     "execution_count": 2,
     "metadata": {},
     "output_type": "execute_result"
    }
   ],
   "source": [
    "facebook_dataset = pd.read_csv(\"./dataset_Facebook.csv\", sep=\";\")\n",
    "facebook_dataset.head()"
   ]
  },
  {
   "cell_type": "markdown",
   "id": "325f89dc",
   "metadata": {},
   "source": [
    "# 2) Distribution of data based on type of Post"
   ]
  },
  {
   "cell_type": "code",
   "execution_count": 3,
   "id": "310abf3f",
   "metadata": {},
   "outputs": [
    {
     "data": {
      "text/plain": [
       "array(['Photo', 'Status', 'Link', 'Video'], dtype=object)"
      ]
     },
     "execution_count": 3,
     "metadata": {},
     "output_type": "execute_result"
    }
   ],
   "source": [
    "# Acquiring unique post values\n",
    "post_types = facebook_dataset.Type.unique()\n",
    "post_types"
   ]
  },
  {
   "cell_type": "code",
   "execution_count": 4,
   "id": "9d110b4a",
   "metadata": {},
   "outputs": [
    {
     "data": {
      "text/plain": [
       "{'Photo': 426, 'Status': 45, 'Link': 22, 'Video': 7}"
      ]
     },
     "execution_count": 4,
     "metadata": {},
     "output_type": "execute_result"
    }
   ],
   "source": [
    "# Generating frequency data for each type of post\n",
    "\n",
    "frequency_data = {}\n",
    "for post in post_types:\n",
    "    subset = facebook_dataset[facebook_dataset.Type == post]\n",
    "    frequency_data[post] = subset.shape[0]\n",
    "    \n",
    "frequency_data"
   ]
  },
  {
   "cell_type": "code",
   "execution_count": 5,
   "id": "26120765",
   "metadata": {},
   "outputs": [
    {
     "data": {
      "image/png": "[encoded data removed]",
      "text/plain": [
       "<Figure size 576x576 with 1 Axes>"
      ]
     },
     "metadata": {},
     "output_type": "display_data"
    }
   ],
   "source": [
    "fig = plt.figure(figsize=(8, 8))\n",
    "\n",
    "# Adds subplot on position 1\n",
    "ax = fig.add_subplot(111)\n",
    "\n",
    "# Generating legend for pie chart\n",
    "legend = [\n",
    "    \"Photo\",\n",
    "    \"Status\",\n",
    "    \"link\",\n",
    "    \"Video\"\n",
    "]\n",
    "\n",
    "# Defining explode values\n",
    "explode = [0.1, 0.1, 0.1, 0.1]\n",
    "\n",
    "# Generating and displaying piechart\n",
    "plt.pie(\n",
    "    x=frequency_data.values(),\n",
    "    labels=legend,\n",
    "    explode=explode,\n",
    ")\n",
    "plt.title(\"Composition of post types in data (Pie Chart)\", fontsize=20)\n",
    "plt.show()"
   ]
  },
  {
   "cell_type": "markdown",
   "id": "4aef4c2a",
   "metadata": {},
   "source": [
    "# 3) Likes per type of data"
   ]
  },
  {
   "cell_type": "code",
   "execution_count": 6,
   "id": "a1bc325e",
   "metadata": {},
   "outputs": [
    {
     "data": {
      "text/plain": [
       "{'Photo': 77610.0, 'Status': 7952.0, 'Link': 1613.0, 'Video': 1620.0}"
      ]
     },
     "execution_count": 6,
     "metadata": {},
     "output_type": "execute_result"
    }
   ],
   "source": [
    "# Generating data for count of likes\n",
    "likes_per_type = {}\n",
    "\n",
    "for post in post_types:\n",
    "    subset = facebook_dataset[facebook_dataset.Type == post]\n",
    "    likes_per_type[post] = subset.like.sum()\n",
    "    \n",
    "likes_per_type"
   ]
  },
  {
   "cell_type": "code",
   "execution_count": 7,
   "id": "c9b4ccdd",
   "metadata": {},
   "outputs": [
    {
     "data": {
      "image/png": "[encoded data removed]",
      "text/plain": [
       "<Figure size 576x576 with 1 Axes>"
      ]
     },
     "metadata": {
      "needs_background": "light"
     },
     "output_type": "display_data"
    }
   ],
   "source": [
    "# Generating bar graph\n",
    "fig = plt.figure(figsize=(8, 8))\n",
    "\n",
    "# Adds subplot on position 1\n",
    "ax = fig.add_subplot(111)\n",
    "\n",
    "# Generating and displaying bar chart\n",
    "plt.bar(\n",
    "    x=likes_per_type.keys(),\n",
    "    height=likes_per_type.values()\n",
    ")\n",
    "plt.xlabel(\"Type of Post\", fontsize=20)\n",
    "plt.ylabel(\"Number of Likes\", fontsize=20)\n",
    "plt.title(\"Number of likes per type (Bar Plot)\", fontsize=20)\n",
    "plt.show()"
   ]
  },
  {
   "cell_type": "markdown",
   "id": "2fda4729",
   "metadata": {},
   "source": [
    "# 4) Counting number of paid and unpaid posts"
   ]
  },
  {
   "cell_type": "code",
   "execution_count": 8,
   "id": "2510a0c2",
   "metadata": {},
   "outputs": [
    {
     "data": {
      "image/png": "[encoded data removed]",
      "text/plain": [
       "<Figure size 576x576 with 1 Axes>"
      ]
     },
     "metadata": {
      "needs_background": "light"
     },
     "output_type": "display_data"
    }
   ],
   "source": [
    "# Generating bar graph\n",
    "fig = plt.figure(figsize=(8, 8))\n",
    "\n",
    "# Adds subplot on position 1\n",
    "ax = fig.add_subplot(111)\n",
    "\n",
    "sns.countplot(x=facebook_dataset.Paid)\n",
    "\n",
    "plt.xlabel(\"Paid posts (O : unpaid, 1: paid)\", fontsize=20)\n",
    "plt.ylabel(\"Count\", fontsize=20)\n",
    "plt.title(\"Count of paid and unpaid posts (Count plot)\", fontsize=20)\n",
    "\n",
    "plt.show()"
   ]
  },
  {
   "cell_type": "markdown",
   "id": "83042254",
   "metadata": {},
   "source": [
    "# B) Heart Disease dataset"
   ]
  },
  {
   "cell_type": "markdown",
   "id": "1ebf63d8",
   "metadata": {},
   "source": [
    "# 1) Loading the dataset"
   ]
  },
  {
   "cell_type": "code",
   "execution_count": 9,
   "id": "7780aba5",
   "metadata": {},
   "outputs": [
    {
     "data": {
      "text/html": [
       "<div>\n",
       "<style scoped>\n",
       "    .dataframe tbody tr th:only-of-type {\n",
       "        vertical-align: middle;\n",
       "    }\n",
       "\n",
       "    .dataframe tbody tr th {\n",
       "        vertical-align: top;\n",
       "    }\n",
       "\n",
       "    .dataframe thead th {\n",
       "        text-align: right;\n",
       "    }\n",
       "</style>\n",
       "<table border=\"1\" class=\"dataframe\">\n",
       "  <thead>\n",
       "    <tr style=\"text-align: right;\">\n",
       "      <th></th>\n",
       "      <th>0</th>\n",
       "      <th>1</th>\n",
       "      <th>2</th>\n",
       "      <th>3</th>\n",
       "      <th>4</th>\n",
       "      <th>5</th>\n",
       "      <th>6</th>\n",
       "      <th>7</th>\n",
       "      <th>8</th>\n",
       "      <th>9</th>\n",
       "      <th>10</th>\n",
       "      <th>11</th>\n",
       "      <th>12</th>\n",
       "      <th>13</th>\n",
       "    </tr>\n",
       "  </thead>\n",
       "  <tbody>\n",
       "    <tr>\n",
       "      <th>0</th>\n",
       "      <td>63.0</td>\n",
       "      <td>1.0</td>\n",
       "      <td>1.0</td>\n",
       "      <td>145.0</td>\n",
       "      <td>233.0</td>\n",
       "      <td>1.0</td>\n",
       "      <td>2.0</td>\n",
       "      <td>150.0</td>\n",
       "      <td>0.0</td>\n",
       "      <td>2.3</td>\n",
       "      <td>3.0</td>\n",
       "      <td>0.0</td>\n",
       "      <td>6.0</td>\n",
       "      <td>0</td>\n",
       "    </tr>\n",
       "    <tr>\n",
       "      <th>1</th>\n",
       "      <td>67.0</td>\n",
       "      <td>1.0</td>\n",
       "      <td>4.0</td>\n",
       "      <td>160.0</td>\n",
       "      <td>286.0</td>\n",
       "      <td>0.0</td>\n",
       "      <td>2.0</td>\n",
       "      <td>108.0</td>\n",
       "      <td>1.0</td>\n",
       "      <td>1.5</td>\n",
       "      <td>2.0</td>\n",
       "      <td>3.0</td>\n",
       "      <td>3.0</td>\n",
       "      <td>2</td>\n",
       "    </tr>\n",
       "    <tr>\n",
       "      <th>2</th>\n",
       "      <td>67.0</td>\n",
       "      <td>1.0</td>\n",
       "      <td>4.0</td>\n",
       "      <td>120.0</td>\n",
       "      <td>229.0</td>\n",
       "      <td>0.0</td>\n",
       "      <td>2.0</td>\n",
       "      <td>129.0</td>\n",
       "      <td>1.0</td>\n",
       "      <td>2.6</td>\n",
       "      <td>2.0</td>\n",
       "      <td>2.0</td>\n",
       "      <td>7.0</td>\n",
       "      <td>1</td>\n",
       "    </tr>\n",
       "    <tr>\n",
       "      <th>3</th>\n",
       "      <td>37.0</td>\n",
       "      <td>1.0</td>\n",
       "      <td>3.0</td>\n",
       "      <td>130.0</td>\n",
       "      <td>250.0</td>\n",
       "      <td>0.0</td>\n",
       "      <td>0.0</td>\n",
       "      <td>187.0</td>\n",
       "      <td>0.0</td>\n",
       "      <td>3.5</td>\n",
       "      <td>3.0</td>\n",
       "      <td>0.0</td>\n",
       "      <td>3.0</td>\n",
       "      <td>0</td>\n",
       "    </tr>\n",
       "    <tr>\n",
       "      <th>4</th>\n",
       "      <td>41.0</td>\n",
       "      <td>0.0</td>\n",
       "      <td>2.0</td>\n",
       "      <td>130.0</td>\n",
       "      <td>204.0</td>\n",
       "      <td>0.0</td>\n",
       "      <td>2.0</td>\n",
       "      <td>172.0</td>\n",
       "      <td>0.0</td>\n",
       "      <td>1.4</td>\n",
       "      <td>1.0</td>\n",
       "      <td>0.0</td>\n",
       "      <td>3.0</td>\n",
       "      <td>0</td>\n",
       "    </tr>\n",
       "  </tbody>\n",
       "</table>\n",
       "</div>"
      ],
      "text/plain": [
       "     0    1    2      3      4    5    6      7    8    9    10   11   12  13\n",
       "0  63.0  1.0  1.0  145.0  233.0  1.0  2.0  150.0  0.0  2.3  3.0  0.0  6.0   0\n",
       "1  67.0  1.0  4.0  160.0  286.0  0.0  2.0  108.0  1.0  1.5  2.0  3.0  3.0   2\n",
       "2  67.0  1.0  4.0  120.0  229.0  0.0  2.0  129.0  1.0  2.6  2.0  2.0  7.0   1\n",
       "3  37.0  1.0  3.0  130.0  250.0  0.0  0.0  187.0  0.0  3.5  3.0  0.0  3.0   0\n",
       "4  41.0  0.0  2.0  130.0  204.0  0.0  2.0  172.0  0.0  1.4  1.0  0.0  3.0   0"
      ]
     },
     "execution_count": 9,
     "metadata": {},
     "output_type": "execute_result"
    }
   ],
   "source": [
    "heart_dataset = pd.read_csv(\"./processed.cleveland.csv\", header=None)\n",
    "heart_dataset.head()"
   ]
  },
  {
   "cell_type": "markdown",
   "id": "99d9ac3c",
   "metadata": {},
   "source": [
    "# 2) Renaming columns"
   ]
  },
  {
   "cell_type": "code",
   "execution_count": 10,
   "id": "74bd1a48",
   "metadata": {},
   "outputs": [],
   "source": [
    "heart_dataset.columns = [\n",
    "    \"age\",\n",
    "    \"sex\",\n",
    "    \"chest_pain\",\n",
    "    \"trestbps\",\n",
    "    \"cholestrol\",\n",
    "    \"fbs\",\n",
    "    \"restecg\",\n",
    "    \"thalach\",\n",
    "    \"exang\",\n",
    "    \"oldpeak\",\n",
    "    \"slope\",\n",
    "    \"ca\",\n",
    "    \"thal\",\n",
    "    \"num\"\n",
    "]"
   ]
  },
  {
   "cell_type": "code",
   "execution_count": 11,
   "id": "157e54e8",
   "metadata": {},
   "outputs": [
    {
     "data": {
      "text/html": [
       "<div>\n",
       "<style scoped>\n",
       "    .dataframe tbody tr th:only-of-type {\n",
       "        vertical-align: middle;\n",
       "    }\n",
       "\n",
       "    .dataframe tbody tr th {\n",
       "        vertical-align: top;\n",
       "    }\n",
       "\n",
       "    .dataframe thead th {\n",
       "        text-align: right;\n",
       "    }\n",
       "</style>\n",
       "<table border=\"1\" class=\"dataframe\">\n",
       "  <thead>\n",
       "    <tr style=\"text-align: right;\">\n",
       "      <th></th>\n",
       "      <th>age</th>\n",
       "      <th>sex</th>\n",
       "      <th>chest_pain</th>\n",
       "      <th>trestbps</th>\n",
       "      <th>cholestrol</th>\n",
       "      <th>fbs</th>\n",
       "      <th>restecg</th>\n",
       "      <th>thalach</th>\n",
       "      <th>exang</th>\n",
       "      <th>oldpeak</th>\n",
       "      <th>slope</th>\n",
       "      <th>ca</th>\n",
       "      <th>thal</th>\n",
       "      <th>num</th>\n",
       "    </tr>\n",
       "  </thead>\n",
       "  <tbody>\n",
       "    <tr>\n",
       "      <th>0</th>\n",
       "      <td>63.0</td>\n",
       "      <td>1.0</td>\n",
       "      <td>1.0</td>\n",
       "      <td>145.0</td>\n",
       "      <td>233.0</td>\n",
       "      <td>1.0</td>\n",
       "      <td>2.0</td>\n",
       "      <td>150.0</td>\n",
       "      <td>0.0</td>\n",
       "      <td>2.3</td>\n",
       "      <td>3.0</td>\n",
       "      <td>0.0</td>\n",
       "      <td>6.0</td>\n",
       "      <td>0</td>\n",
       "    </tr>\n",
       "    <tr>\n",
       "      <th>1</th>\n",
       "      <td>67.0</td>\n",
       "      <td>1.0</td>\n",
       "      <td>4.0</td>\n",
       "      <td>160.0</td>\n",
       "      <td>286.0</td>\n",
       "      <td>0.0</td>\n",
       "      <td>2.0</td>\n",
       "      <td>108.0</td>\n",
       "      <td>1.0</td>\n",
       "      <td>1.5</td>\n",
       "      <td>2.0</td>\n",
       "      <td>3.0</td>\n",
       "      <td>3.0</td>\n",
       "      <td>2</td>\n",
       "    </tr>\n",
       "    <tr>\n",
       "      <th>2</th>\n",
       "      <td>67.0</td>\n",
       "      <td>1.0</td>\n",
       "      <td>4.0</td>\n",
       "      <td>120.0</td>\n",
       "      <td>229.0</td>\n",
       "      <td>0.0</td>\n",
       "      <td>2.0</td>\n",
       "      <td>129.0</td>\n",
       "      <td>1.0</td>\n",
       "      <td>2.6</td>\n",
       "      <td>2.0</td>\n",
       "      <td>2.0</td>\n",
       "      <td>7.0</td>\n",
       "      <td>1</td>\n",
       "    </tr>\n",
       "    <tr>\n",
       "      <th>3</th>\n",
       "      <td>37.0</td>\n",
       "      <td>1.0</td>\n",
       "      <td>3.0</td>\n",
       "      <td>130.0</td>\n",
       "      <td>250.0</td>\n",
       "      <td>0.0</td>\n",
       "      <td>0.0</td>\n",
       "      <td>187.0</td>\n",
       "      <td>0.0</td>\n",
       "      <td>3.5</td>\n",
       "      <td>3.0</td>\n",
       "      <td>0.0</td>\n",
       "      <td>3.0</td>\n",
       "      <td>0</td>\n",
       "    </tr>\n",
       "    <tr>\n",
       "      <th>4</th>\n",
       "      <td>41.0</td>\n",
       "      <td>0.0</td>\n",
       "      <td>2.0</td>\n",
       "      <td>130.0</td>\n",
       "      <td>204.0</td>\n",
       "      <td>0.0</td>\n",
       "      <td>2.0</td>\n",
       "      <td>172.0</td>\n",
       "      <td>0.0</td>\n",
       "      <td>1.4</td>\n",
       "      <td>1.0</td>\n",
       "      <td>0.0</td>\n",
       "      <td>3.0</td>\n",
       "      <td>0</td>\n",
       "    </tr>\n",
       "  </tbody>\n",
       "</table>\n",
       "</div>"
      ],
      "text/plain": [
       "    age  sex  chest_pain  trestbps  cholestrol  fbs  restecg  thalach  exang  \\\n",
       "0  63.0  1.0         1.0     145.0       233.0  1.0      2.0    150.0    0.0   \n",
       "1  67.0  1.0         4.0     160.0       286.0  0.0      2.0    108.0    1.0   \n",
       "2  67.0  1.0         4.0     120.0       229.0  0.0      2.0    129.0    1.0   \n",
       "3  37.0  1.0         3.0     130.0       250.0  0.0      0.0    187.0    0.0   \n",
       "4  41.0  0.0         2.0     130.0       204.0  0.0      2.0    172.0    0.0   \n",
       "\n",
       "   oldpeak  slope   ca thal  num  \n",
       "0      2.3    3.0  0.0  6.0    0  \n",
       "1      1.5    2.0  3.0  3.0    2  \n",
       "2      2.6    2.0  2.0  7.0    1  \n",
       "3      3.5    3.0  0.0  3.0    0  \n",
       "4      1.4    1.0  0.0  3.0    0  "
      ]
     },
     "execution_count": 11,
     "metadata": {},
     "output_type": "execute_result"
    }
   ],
   "source": [
    "heart_dataset.head()"
   ]
  },
  {
   "cell_type": "markdown",
   "id": "b736d04b",
   "metadata": {},
   "source": [
    "# 3) Quartile spread of thalach feature"
   ]
  },
  {
   "cell_type": "code",
   "execution_count": 12,
   "id": "12201a1d",
   "metadata": {},
   "outputs": [
    {
     "data": {
      "image/png": "[encoded data removed]",
      "text/plain": [
       "<Figure size 576x576 with 1 Axes>"
      ]
     },
     "metadata": {
      "needs_background": "light"
     },
     "output_type": "display_data"
    }
   ],
   "source": [
    "# Generating bar graph\n",
    "fig = plt.figure(figsize=(8, 8))\n",
    "\n",
    "# Adds subplot on position 1\n",
    "ax = fig.add_subplot(111)\n",
    "\n",
    "sns.boxplot(x=heart_dataset.thalach)\n",
    "plt.title(\"Quartile spread of thalach feature (Box plot)\", fontsize=20)\n",
    "\n",
    "plt.show()"
   ]
  },
  {
   "cell_type": "markdown",
   "id": "f739954e",
   "metadata": {},
   "source": [
    "# 4) Distribution of age in entire dataset"
   ]
  },
  {
   "cell_type": "code",
   "execution_count": 13,
   "id": "5aeaf47b",
   "metadata": {},
   "outputs": [
    {
     "name": "stderr",
     "output_type": "stream",
     "text": [
      "C:\\Users\\ShivendraBhonsle\\anaconda3\\lib\\site-packages\\seaborn\\distributions.py:2557: FutureWarning: `distplot` is a deprecated function and will be removed in a future version. Please adapt your code to use either `displot` (a figure-level function with similar flexibility) or `histplot` (an axes-level function for histograms).\n",
      "  warnings.warn(msg, FutureWarning)\n"
     ]
    },
    {
     "data": {
      "image/png": "[encoded data removed]",
      "text/plain": [
       "<Figure size 720x720 with 1 Axes>"
      ]
     },
     "metadata": {
      "needs_background": "light"
     },
     "output_type": "display_data"
    }
   ],
   "source": [
    "# Generating bar graph\n",
    "fig = plt.figure(figsize=(10, 10))\n",
    "\n",
    "# Adds subplot on position 1\n",
    "ax = fig.add_subplot(111)\n",
    "\n",
    "sns.distplot(x=heart_dataset.age)\n",
    "plt.show()"
   ]
  },
  {
   "cell_type": "markdown",
   "id": "719b4a21",
   "metadata": {},
   "source": [
    "# 5) Checking correlation using heatmap"
   ]
  },
  {
   "cell_type": "code",
   "execution_count": 14,
   "id": "8cacaca2",
   "metadata": {},
   "outputs": [
    {
     "data": {
      "text/plain": [
       "[]"
      ]
     },
     "execution_count": 14,
     "metadata": {},
     "output_type": "execute_result"
    },
    {
     "data": {
      "image/png": "[encoded data removed]",
      "text/plain": [
       "<Figure size 1080x1080 with 2 Axes>"
      ]
     },
     "metadata": {
      "needs_background": "light"
     },
     "output_type": "display_data"
    }
   ],
   "source": [
    "# Generating bar graph\n",
    "fig = plt.figure(figsize=(15, 15))\n",
    "\n",
    "# Adds subplot on position 1\n",
    "ax = fig.add_subplot(111)\n",
    "\n",
    "sns.heatmap(heart_dataset.corr())\n",
    "\n",
    "plt.plot()"
   ]
  },
  {
   "cell_type": "markdown",
   "id": "3e9ec4ce",
   "metadata": {},
   "source": [
    "# Conclusion\n",
    "1. Implemented following visualization methods :\n",
    "    1. Pie chart\n",
    "    2. Bar chart\n",
    "    3. Count plot\n",
    "    4. Box plot\n",
    "    5. Distribution plot (Histogram)\n",
    "    6. Heatmap\n",
    "   "
   ]
  },
  {
   "cell_type": "markdown",
   "id": "58f84609",
   "metadata": {},
   "source": [
    "<center><h1>End of Notebook</h1></center>"
   ]
  }
 ],
 "metadata": {
  "kernelspec": {
   "display_name": "Python 3",
   "language": "python",
   "name": "python3"
  },
  "language_info": {
   "codemirror_mode": {
    "name": "ipython",
    "version": 3
   },
   "file_extension": ".py",
   "mimetype": "text/x-python",
   "name": "python",
   "nbconvert_exporter": "python",
   "pygments_lexer": "ipython3",
   "version": "3.8.8"
  }
 },
 "nbformat": 4,
 "nbformat_minor": 5
}
