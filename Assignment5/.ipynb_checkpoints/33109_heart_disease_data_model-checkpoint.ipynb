{
 "cells": [
  {
   "cell_type": "markdown",
   "metadata": {
    "id": "VdCwoGpTY2FF"
   },
   "source": [
    "<center><h1>Assignment 5</h1></center>\n",
    "\n",
    "## Details\n",
    "1. Author :Shivendra Bhonsle\n",
    "2. Roll Number : 33109\n",
    "3. Batch : K9\n",
    "4. Class : TE9\n",
    "\n",
    "## Problem Statement\n",
    "### Perform the following operations using Python on the Air quality and Heart Diseases data sets\n",
    "1. Data cleaning\n",
    "2. Data integration\n",
    "3. Data transformation\n",
    "4. Error correcting\n",
    "5. Data model building\n",
    "\n",
    "## Implementation details\n",
    "1. Dataset URL : https://archive.ics.uci.edu/ml/datasets/Heart+Disease\n",
    "2. Python version : 3.7.4\n",
    "3. Imports :\n",
    "    1. pandas\n",
    "    2. numpy\n",
    "    3. matplotlib.pyolot\n",
    "    4. seaborn\n",
    "    5. sklearn.linear_model.LogisticRegression\n",
    "\n",
    "### Dataset details\n",
    "1. This database contains 76 attributes, but all published experiments refer to using a subset of 14 of them. In particular, the Cleveland database is the only one that has been used by ML researchers to this date. \n",
    "2. The \"goal\" field refers to the presence of heart disease in the patient. \n",
    "3. It is integer valued from 0 (no presence) to 4. Experiments with the Cleveland database have concentrated on simply attempting to distinguish presence (values 1,2,3,4) from absence (value 0).\n",
    "4. The names and social security numbers of the patients were recently removed from the database, replaced with dummy values."
   ]
  },
  {
   "cell_type": "markdown",
   "metadata": {
    "id": "DMsAurx5Y2FQ"
   },
   "source": [
    "# Importing required libraries"
   ]
  },
  {
   "cell_type": "code",
   "execution_count": 1,
   "metadata": {
    "executionInfo": {
     "elapsed": 9,
     "status": "ok",
     "timestamp": 1650880157228,
     "user": {
      "displayName": "Pankaj More",
      "userId": "13297301438148653218"
     },
     "user_tz": -330
    },
    "id": "O_J8bAeqY2FS"
   },
   "outputs": [],
   "source": [
    "import pandas as pd\n",
    "import numpy as np\n",
    "import matplotlib.pyplot as plt\n",
    "import seaborn as sns\n",
    "%matplotlib inline"
   ]
  },
  {
   "cell_type": "markdown",
   "metadata": {
    "id": "Tp7P_NsyY2FV"
   },
   "source": [
    "# Loading the dataset"
   ]
  },
  {
   "cell_type": "code",
   "execution_count": 7,
   "metadata": {
    "executionInfo": {
     "elapsed": 32,
     "status": "ok",
     "timestamp": 1650880158081,
     "user": {
      "displayName": "Pankaj More",
      "userId": "13297301438148653218"
     },
     "user_tz": -330
    },
    "id": "1Ro4LUhgY2FW"
   },
   "outputs": [],
   "source": [
    "dataset = pd.read_csv(\"preprocessed_data.csv\", index_col=0)"
   ]
  },
  {
   "cell_type": "markdown",
   "metadata": {
    "id": "FfduBLq_Y2FX"
   },
   "source": [
    "# Displaying metadata for dataset (Statistical)"
   ]
  },
  {
   "cell_type": "code",
   "execution_count": 8,
   "metadata": {
    "colab": {
     "base_uri": "https://localhost:8080/"
    },
    "executionInfo": {
     "elapsed": 29,
     "status": "ok",
     "timestamp": 1650880158081,
     "user": {
      "displayName": "Pankaj More",
      "userId": "13297301438148653218"
     },
     "user_tz": -330
    },
    "id": "FOCEhCSGY2FY",
    "outputId": "2072d762-670a-40db-8b02-5dac9ad59186"
   },
   "outputs": [
    {
     "data": {
      "text/plain": [
       "(682, 14)"
      ]
     },
     "execution_count": 8,
     "metadata": {},
     "output_type": "execute_result"
    }
   ],
   "source": [
    "dataset.shape"
   ]
  },
  {
   "cell_type": "code",
   "execution_count": 9,
   "metadata": {
    "colab": {
     "base_uri": "https://localhost:8080/"
    },
    "executionInfo": {
     "elapsed": 23,
     "status": "ok",
     "timestamp": 1650880158082,
     "user": {
      "displayName": "Pankaj More",
      "userId": "13297301438148653218"
     },
     "user_tz": -330
    },
    "id": "rtmBbIaNY2Fb",
    "outputId": "f854005f-5980-43ed-8559-0b26d684c45c"
   },
   "outputs": [
    {
     "data": {
      "text/plain": [
       "age           0\n",
       "sex           0\n",
       "chest_pain    0\n",
       "trestbps      0\n",
       "cholestrol    0\n",
       "fbs           0\n",
       "restecg       0\n",
       "thalach       0\n",
       "exang         0\n",
       "oldpeak       0\n",
       "slope         0\n",
       "ca            0\n",
       "thal          0\n",
       "num           0\n",
       "dtype: int64"
      ]
     },
     "execution_count": 9,
     "metadata": {},
     "output_type": "execute_result"
    }
   ],
   "source": [
    "dataset.isnull().sum()"
   ]
  },
  {
   "cell_type": "code",
   "execution_count": 10,
   "metadata": {
    "colab": {
     "base_uri": "https://localhost:8080/",
     "height": 520
    },
    "executionInfo": {
     "elapsed": 18,
     "status": "ok",
     "timestamp": 1650880158083,
     "user": {
      "displayName": "Pankaj More",
      "userId": "13297301438148653218"
     },
     "user_tz": -330
    },
    "id": "gAEzQJGnY2Fc",
    "outputId": "5ffdb5db-7d61-43a6-a401-3e01b6dee69b"
   },
   "outputs": [
    {
     "data": {
      "text/html": [
       "<div>\n",
       "<style scoped>\n",
       "    .dataframe tbody tr th:only-of-type {\n",
       "        vertical-align: middle;\n",
       "    }\n",
       "\n",
       "    .dataframe tbody tr th {\n",
       "        vertical-align: top;\n",
       "    }\n",
       "\n",
       "    .dataframe thead th {\n",
       "        text-align: right;\n",
       "    }\n",
       "</style>\n",
       "<table border=\"1\" class=\"dataframe\">\n",
       "  <thead>\n",
       "    <tr style=\"text-align: right;\">\n",
       "      <th></th>\n",
       "      <th>age</th>\n",
       "      <th>sex</th>\n",
       "      <th>chest_pain</th>\n",
       "      <th>trestbps</th>\n",
       "      <th>cholestrol</th>\n",
       "      <th>fbs</th>\n",
       "      <th>restecg</th>\n",
       "      <th>thalach</th>\n",
       "      <th>exang</th>\n",
       "      <th>oldpeak</th>\n",
       "      <th>slope</th>\n",
       "      <th>ca</th>\n",
       "      <th>thal</th>\n",
       "      <th>num</th>\n",
       "    </tr>\n",
       "  </thead>\n",
       "  <tbody>\n",
       "    <tr>\n",
       "      <th>0</th>\n",
       "      <td>0.714286</td>\n",
       "      <td>1</td>\n",
       "      <td>1</td>\n",
       "      <td>0.541667</td>\n",
       "      <td>0.386401</td>\n",
       "      <td>1.0</td>\n",
       "      <td>2.0</td>\n",
       "      <td>0.633803</td>\n",
       "      <td>0.0</td>\n",
       "      <td>0.890909</td>\n",
       "      <td>3.0</td>\n",
       "      <td>0.0</td>\n",
       "      <td>6.0</td>\n",
       "      <td>0</td>\n",
       "    </tr>\n",
       "    <tr>\n",
       "      <th>1</th>\n",
       "      <td>0.795918</td>\n",
       "      <td>1</td>\n",
       "      <td>4</td>\n",
       "      <td>0.666667</td>\n",
       "      <td>0.474295</td>\n",
       "      <td>0.0</td>\n",
       "      <td>2.0</td>\n",
       "      <td>0.338028</td>\n",
       "      <td>1.0</td>\n",
       "      <td>0.745455</td>\n",
       "      <td>2.0</td>\n",
       "      <td>3.0</td>\n",
       "      <td>3.0</td>\n",
       "      <td>1</td>\n",
       "    </tr>\n",
       "    <tr>\n",
       "      <th>2</th>\n",
       "      <td>0.795918</td>\n",
       "      <td>1</td>\n",
       "      <td>4</td>\n",
       "      <td>0.333333</td>\n",
       "      <td>0.379768</td>\n",
       "      <td>0.0</td>\n",
       "      <td>2.0</td>\n",
       "      <td>0.485915</td>\n",
       "      <td>1.0</td>\n",
       "      <td>0.945455</td>\n",
       "      <td>2.0</td>\n",
       "      <td>2.0</td>\n",
       "      <td>7.0</td>\n",
       "      <td>1</td>\n",
       "    </tr>\n",
       "    <tr>\n",
       "      <th>4</th>\n",
       "      <td>0.265306</td>\n",
       "      <td>0</td>\n",
       "      <td>2</td>\n",
       "      <td>0.416667</td>\n",
       "      <td>0.338308</td>\n",
       "      <td>0.0</td>\n",
       "      <td>2.0</td>\n",
       "      <td>0.788732</td>\n",
       "      <td>0.0</td>\n",
       "      <td>0.727273</td>\n",
       "      <td>1.0</td>\n",
       "      <td>0.0</td>\n",
       "      <td>3.0</td>\n",
       "      <td>0</td>\n",
       "    </tr>\n",
       "    <tr>\n",
       "      <th>5</th>\n",
       "      <td>0.571429</td>\n",
       "      <td>1</td>\n",
       "      <td>2</td>\n",
       "      <td>0.333333</td>\n",
       "      <td>0.391376</td>\n",
       "      <td>0.0</td>\n",
       "      <td>0.0</td>\n",
       "      <td>0.830986</td>\n",
       "      <td>0.0</td>\n",
       "      <td>0.618182</td>\n",
       "      <td>1.0</td>\n",
       "      <td>0.0</td>\n",
       "      <td>3.0</td>\n",
       "      <td>0</td>\n",
       "    </tr>\n",
       "    <tr>\n",
       "      <th>7</th>\n",
       "      <td>0.591837</td>\n",
       "      <td>0</td>\n",
       "      <td>4</td>\n",
       "      <td>0.333333</td>\n",
       "      <td>0.587065</td>\n",
       "      <td>0.0</td>\n",
       "      <td>0.0</td>\n",
       "      <td>0.725352</td>\n",
       "      <td>1.0</td>\n",
       "      <td>0.581818</td>\n",
       "      <td>1.0</td>\n",
       "      <td>0.0</td>\n",
       "      <td>3.0</td>\n",
       "      <td>0</td>\n",
       "    </tr>\n",
       "    <tr>\n",
       "      <th>8</th>\n",
       "      <td>0.714286</td>\n",
       "      <td>1</td>\n",
       "      <td>4</td>\n",
       "      <td>0.416667</td>\n",
       "      <td>0.421227</td>\n",
       "      <td>0.0</td>\n",
       "      <td>2.0</td>\n",
       "      <td>0.612676</td>\n",
       "      <td>0.0</td>\n",
       "      <td>0.727273</td>\n",
       "      <td>2.0</td>\n",
       "      <td>1.0</td>\n",
       "      <td>7.0</td>\n",
       "      <td>1</td>\n",
       "    </tr>\n",
       "    <tr>\n",
       "      <th>10</th>\n",
       "      <td>0.591837</td>\n",
       "      <td>1</td>\n",
       "      <td>4</td>\n",
       "      <td>0.500000</td>\n",
       "      <td>0.318408</td>\n",
       "      <td>0.0</td>\n",
       "      <td>0.0</td>\n",
       "      <td>0.619718</td>\n",
       "      <td>0.0</td>\n",
       "      <td>0.545455</td>\n",
       "      <td>2.0</td>\n",
       "      <td>0.0</td>\n",
       "      <td>6.0</td>\n",
       "      <td>0</td>\n",
       "    </tr>\n",
       "    <tr>\n",
       "      <th>11</th>\n",
       "      <td>0.571429</td>\n",
       "      <td>0</td>\n",
       "      <td>2</td>\n",
       "      <td>0.500000</td>\n",
       "      <td>0.487562</td>\n",
       "      <td>0.0</td>\n",
       "      <td>2.0</td>\n",
       "      <td>0.654930</td>\n",
       "      <td>0.0</td>\n",
       "      <td>0.709091</td>\n",
       "      <td>2.0</td>\n",
       "      <td>0.0</td>\n",
       "      <td>3.0</td>\n",
       "      <td>0</td>\n",
       "    </tr>\n",
       "    <tr>\n",
       "      <th>12</th>\n",
       "      <td>0.571429</td>\n",
       "      <td>1</td>\n",
       "      <td>3</td>\n",
       "      <td>0.416667</td>\n",
       "      <td>0.424544</td>\n",
       "      <td>1.0</td>\n",
       "      <td>2.0</td>\n",
       "      <td>0.577465</td>\n",
       "      <td>1.0</td>\n",
       "      <td>0.581818</td>\n",
       "      <td>2.0</td>\n",
       "      <td>1.0</td>\n",
       "      <td>6.0</td>\n",
       "      <td>1</td>\n",
       "    </tr>\n",
       "    <tr>\n",
       "      <th>13</th>\n",
       "      <td>0.326531</td>\n",
       "      <td>1</td>\n",
       "      <td>2</td>\n",
       "      <td>0.333333</td>\n",
       "      <td>0.436153</td>\n",
       "      <td>0.0</td>\n",
       "      <td>0.0</td>\n",
       "      <td>0.795775</td>\n",
       "      <td>0.0</td>\n",
       "      <td>0.472727</td>\n",
       "      <td>1.0</td>\n",
       "      <td>0.0</td>\n",
       "      <td>7.0</td>\n",
       "      <td>0</td>\n",
       "    </tr>\n",
       "    <tr>\n",
       "      <th>14</th>\n",
       "      <td>0.489796</td>\n",
       "      <td>1</td>\n",
       "      <td>3</td>\n",
       "      <td>0.766667</td>\n",
       "      <td>0.330017</td>\n",
       "      <td>1.0</td>\n",
       "      <td>0.0</td>\n",
       "      <td>0.718310</td>\n",
       "      <td>0.0</td>\n",
       "      <td>0.563636</td>\n",
       "      <td>1.0</td>\n",
       "      <td>0.0</td>\n",
       "      <td>7.0</td>\n",
       "      <td>0</td>\n",
       "    </tr>\n",
       "    <tr>\n",
       "      <th>15</th>\n",
       "      <td>0.591837</td>\n",
       "      <td>1</td>\n",
       "      <td>3</td>\n",
       "      <td>0.583333</td>\n",
       "      <td>0.278607</td>\n",
       "      <td>0.0</td>\n",
       "      <td>0.0</td>\n",
       "      <td>0.802817</td>\n",
       "      <td>0.0</td>\n",
       "      <td>0.763636</td>\n",
       "      <td>1.0</td>\n",
       "      <td>0.0</td>\n",
       "      <td>3.0</td>\n",
       "      <td>0</td>\n",
       "    </tr>\n",
       "    <tr>\n",
       "      <th>16</th>\n",
       "      <td>0.408163</td>\n",
       "      <td>1</td>\n",
       "      <td>2</td>\n",
       "      <td>0.250000</td>\n",
       "      <td>0.379768</td>\n",
       "      <td>0.0</td>\n",
       "      <td>0.0</td>\n",
       "      <td>0.760563</td>\n",
       "      <td>0.0</td>\n",
       "      <td>0.654545</td>\n",
       "      <td>3.0</td>\n",
       "      <td>0.0</td>\n",
       "      <td>7.0</td>\n",
       "      <td>1</td>\n",
       "    </tr>\n",
       "    <tr>\n",
       "      <th>17</th>\n",
       "      <td>0.530612</td>\n",
       "      <td>1</td>\n",
       "      <td>4</td>\n",
       "      <td>0.500000</td>\n",
       "      <td>0.396352</td>\n",
       "      <td>0.0</td>\n",
       "      <td>0.0</td>\n",
       "      <td>0.704225</td>\n",
       "      <td>0.0</td>\n",
       "      <td>0.690909</td>\n",
       "      <td>1.0</td>\n",
       "      <td>0.0</td>\n",
       "      <td>3.0</td>\n",
       "      <td>0</td>\n",
       "    </tr>\n",
       "  </tbody>\n",
       "</table>\n",
       "</div>"
      ],
      "text/plain": [
       "         age  sex  chest_pain  trestbps  cholestrol  fbs  restecg   thalach  \\\n",
       "0   0.714286    1           1  0.541667    0.386401  1.0      2.0  0.633803   \n",
       "1   0.795918    1           4  0.666667    0.474295  0.0      2.0  0.338028   \n",
       "2   0.795918    1           4  0.333333    0.379768  0.0      2.0  0.485915   \n",
       "4   0.265306    0           2  0.416667    0.338308  0.0      2.0  0.788732   \n",
       "5   0.571429    1           2  0.333333    0.391376  0.0      0.0  0.830986   \n",
       "7   0.591837    0           4  0.333333    0.587065  0.0      0.0  0.725352   \n",
       "8   0.714286    1           4  0.416667    0.421227  0.0      2.0  0.612676   \n",
       "10  0.591837    1           4  0.500000    0.318408  0.0      0.0  0.619718   \n",
       "11  0.571429    0           2  0.500000    0.487562  0.0      2.0  0.654930   \n",
       "12  0.571429    1           3  0.416667    0.424544  1.0      2.0  0.577465   \n",
       "13  0.326531    1           2  0.333333    0.436153  0.0      0.0  0.795775   \n",
       "14  0.489796    1           3  0.766667    0.330017  1.0      0.0  0.718310   \n",
       "15  0.591837    1           3  0.583333    0.278607  0.0      0.0  0.802817   \n",
       "16  0.408163    1           2  0.250000    0.379768  0.0      0.0  0.760563   \n",
       "17  0.530612    1           4  0.500000    0.396352  0.0      0.0  0.704225   \n",
       "\n",
       "    exang   oldpeak  slope   ca  thal  num  \n",
       "0     0.0  0.890909    3.0  0.0   6.0    0  \n",
       "1     1.0  0.745455    2.0  3.0   3.0    1  \n",
       "2     1.0  0.945455    2.0  2.0   7.0    1  \n",
       "4     0.0  0.727273    1.0  0.0   3.0    0  \n",
       "5     0.0  0.618182    1.0  0.0   3.0    0  \n",
       "7     1.0  0.581818    1.0  0.0   3.0    0  \n",
       "8     0.0  0.727273    2.0  1.0   7.0    1  \n",
       "10    0.0  0.545455    2.0  0.0   6.0    0  \n",
       "11    0.0  0.709091    2.0  0.0   3.0    0  \n",
       "12    1.0  0.581818    2.0  1.0   6.0    1  \n",
       "13    0.0  0.472727    1.0  0.0   7.0    0  \n",
       "14    0.0  0.563636    1.0  0.0   7.0    0  \n",
       "15    0.0  0.763636    1.0  0.0   3.0    0  \n",
       "16    0.0  0.654545    3.0  0.0   7.0    1  \n",
       "17    0.0  0.690909    1.0  0.0   3.0    0  "
      ]
     },
     "execution_count": 10,
     "metadata": {},
     "output_type": "execute_result"
    }
   ],
   "source": [
    "dataset.head(15)"
   ]
  },
  {
   "cell_type": "markdown",
   "metadata": {
    "id": "pWPNHeJuY2Fe"
   },
   "source": [
    "# Observations :\n",
    "1. There are 682 data points with 14 columns (including target column)\n",
    "2. Null values are removed / replaced and dataset is scaled for numerical variables"
   ]
  },
  {
   "cell_type": "markdown",
   "metadata": {
    "id": "3A7fCRnrY2Ff"
   },
   "source": [
    "# A) Feature selection"
   ]
  },
  {
   "cell_type": "code",
   "execution_count": 11,
   "metadata": {
    "colab": {
     "base_uri": "https://localhost:8080/",
     "height": 867
    },
    "executionInfo": {
     "elapsed": 906,
     "status": "ok",
     "timestamp": 1650880158979,
     "user": {
      "displayName": "Pankaj More",
      "userId": "13297301438148653218"
     },
     "user_tz": -330
    },
    "id": "tIYmIfD2Y2Fg",
    "outputId": "3dc3b753-dae5-4011-ce25-f5e0d93df819"
   },
   "outputs": [
    {
     "data": {
      "image/png": "[encoded data removed]",
      "text/plain": [
       "<Figure size 1080x1080 with 2 Axes>"
      ]
     },
     "metadata": {
      "needs_background": "light"
     },
     "output_type": "display_data"
    }
   ],
   "source": [
    "# Displaying heatmap for correlation matrix\n",
    "fig = plt.figure(figsize=(15, 15))\n",
    "\n",
    "# Adds subplot on position 1\n",
    "ax = fig.add_subplot(111)\n",
    "\n",
    "sns.heatmap(dataset.corr())\n",
    "plt.show()"
   ]
  },
  {
   "cell_type": "code",
   "execution_count": 12,
   "metadata": {
    "colab": {
     "base_uri": "https://localhost:8080/",
     "height": 394
    },
    "executionInfo": {
     "elapsed": 29,
     "status": "ok",
     "timestamp": 1650880158979,
     "user": {
      "displayName": "Pankaj More",
      "userId": "13297301438148653218"
     },
     "user_tz": -330
    },
    "id": "fvBmBuDKY2Fh",
    "outputId": "fa2e67c7-fa8c-4c07-af95-1d83f8f8701c"
   },
   "outputs": [
    {
     "data": {
      "text/html": [
       "<div>\n",
       "<style scoped>\n",
       "    .dataframe tbody tr th:only-of-type {\n",
       "        vertical-align: middle;\n",
       "    }\n",
       "\n",
       "    .dataframe tbody tr th {\n",
       "        vertical-align: top;\n",
       "    }\n",
       "\n",
       "    .dataframe thead th {\n",
       "        text-align: right;\n",
       "    }\n",
       "</style>\n",
       "<table border=\"1\" class=\"dataframe\">\n",
       "  <thead>\n",
       "    <tr style=\"text-align: right;\">\n",
       "      <th></th>\n",
       "      <th>age</th>\n",
       "      <th>sex</th>\n",
       "      <th>chest_pain</th>\n",
       "      <th>trestbps</th>\n",
       "      <th>cholestrol</th>\n",
       "      <th>fbs</th>\n",
       "      <th>restecg</th>\n",
       "      <th>thalach</th>\n",
       "      <th>exang</th>\n",
       "      <th>oldpeak</th>\n",
       "      <th>slope</th>\n",
       "      <th>ca</th>\n",
       "      <th>thal</th>\n",
       "      <th>num</th>\n",
       "    </tr>\n",
       "  </thead>\n",
       "  <tbody>\n",
       "    <tr>\n",
       "      <th>age</th>\n",
       "      <td>1.000000</td>\n",
       "      <td>-0.023624</td>\n",
       "      <td>0.145740</td>\n",
       "      <td>0.247017</td>\n",
       "      <td>-0.089696</td>\n",
       "      <td>0.154740</td>\n",
       "      <td>0.223164</td>\n",
       "      <td>-0.340013</td>\n",
       "      <td>0.146912</td>\n",
       "      <td>0.246984</td>\n",
       "      <td>-0.024984</td>\n",
       "      <td>0.321673</td>\n",
       "      <td>0.222136</td>\n",
       "      <td>0.225453</td>\n",
       "    </tr>\n",
       "    <tr>\n",
       "      <th>sex</th>\n",
       "      <td>-0.023624</td>\n",
       "      <td>1.000000</td>\n",
       "      <td>0.163370</td>\n",
       "      <td>0.003323</td>\n",
       "      <td>-0.199176</td>\n",
       "      <td>0.037774</td>\n",
       "      <td>-0.036257</td>\n",
       "      <td>-0.148256</td>\n",
       "      <td>0.147096</td>\n",
       "      <td>0.056113</td>\n",
       "      <td>0.063177</td>\n",
       "      <td>0.025315</td>\n",
       "      <td>0.233270</td>\n",
       "      <td>0.279127</td>\n",
       "    </tr>\n",
       "    <tr>\n",
       "      <th>chest_pain</th>\n",
       "      <td>0.145740</td>\n",
       "      <td>0.163370</td>\n",
       "      <td>1.000000</td>\n",
       "      <td>-0.009134</td>\n",
       "      <td>-0.182046</td>\n",
       "      <td>-0.026207</td>\n",
       "      <td>-0.002091</td>\n",
       "      <td>-0.334507</td>\n",
       "      <td>0.415408</td>\n",
       "      <td>0.229230</td>\n",
       "      <td>0.074927</td>\n",
       "      <td>0.093902</td>\n",
       "      <td>0.239361</td>\n",
       "      <td>0.434501</td>\n",
       "    </tr>\n",
       "    <tr>\n",
       "      <th>trestbps</th>\n",
       "      <td>0.247017</td>\n",
       "      <td>0.003323</td>\n",
       "      <td>-0.009134</td>\n",
       "      <td>1.000000</td>\n",
       "      <td>0.066543</td>\n",
       "      <td>0.120023</td>\n",
       "      <td>0.074495</td>\n",
       "      <td>-0.111419</td>\n",
       "      <td>0.118941</td>\n",
       "      <td>0.106618</td>\n",
       "      <td>0.000372</td>\n",
       "      <td>0.037259</td>\n",
       "      <td>0.084489</td>\n",
       "      <td>0.067330</td>\n",
       "    </tr>\n",
       "    <tr>\n",
       "      <th>cholestrol</th>\n",
       "      <td>-0.089696</td>\n",
       "      <td>-0.199176</td>\n",
       "      <td>-0.182046</td>\n",
       "      <td>0.066543</td>\n",
       "      <td>1.000000</td>\n",
       "      <td>0.097576</td>\n",
       "      <td>0.143226</td>\n",
       "      <td>0.272218</td>\n",
       "      <td>-0.054860</td>\n",
       "      <td>0.039519</td>\n",
       "      <td>-0.058404</td>\n",
       "      <td>0.148186</td>\n",
       "      <td>-0.125926</td>\n",
       "      <td>-0.533687</td>\n",
       "    </tr>\n",
       "    <tr>\n",
       "      <th>fbs</th>\n",
       "      <td>0.154740</td>\n",
       "      <td>0.037774</td>\n",
       "      <td>-0.026207</td>\n",
       "      <td>0.120023</td>\n",
       "      <td>0.097576</td>\n",
       "      <td>1.000000</td>\n",
       "      <td>0.113193</td>\n",
       "      <td>0.027782</td>\n",
       "      <td>0.036641</td>\n",
       "      <td>0.062684</td>\n",
       "      <td>0.001531</td>\n",
       "      <td>0.173009</td>\n",
       "      <td>0.084525</td>\n",
       "      <td>0.019112</td>\n",
       "    </tr>\n",
       "    <tr>\n",
       "      <th>restecg</th>\n",
       "      <td>0.223164</td>\n",
       "      <td>-0.036257</td>\n",
       "      <td>-0.002091</td>\n",
       "      <td>0.074495</td>\n",
       "      <td>0.143226</td>\n",
       "      <td>0.113193</td>\n",
       "      <td>1.000000</td>\n",
       "      <td>0.082551</td>\n",
       "      <td>0.024909</td>\n",
       "      <td>0.098591</td>\n",
       "      <td>-0.104784</td>\n",
       "      <td>0.289584</td>\n",
       "      <td>0.147006</td>\n",
       "      <td>-0.000813</td>\n",
       "    </tr>\n",
       "    <tr>\n",
       "      <th>thalach</th>\n",
       "      <td>-0.340013</td>\n",
       "      <td>-0.148256</td>\n",
       "      <td>-0.334507</td>\n",
       "      <td>-0.111419</td>\n",
       "      <td>0.272218</td>\n",
       "      <td>0.027782</td>\n",
       "      <td>0.082551</td>\n",
       "      <td>1.000000</td>\n",
       "      <td>-0.351493</td>\n",
       "      <td>-0.186849</td>\n",
       "      <td>-0.295667</td>\n",
       "      <td>-0.006800</td>\n",
       "      <td>-0.152521</td>\n",
       "      <td>-0.450693</td>\n",
       "    </tr>\n",
       "    <tr>\n",
       "      <th>exang</th>\n",
       "      <td>0.146912</td>\n",
       "      <td>0.147096</td>\n",
       "      <td>0.415408</td>\n",
       "      <td>0.118941</td>\n",
       "      <td>-0.054860</td>\n",
       "      <td>0.036641</td>\n",
       "      <td>0.024909</td>\n",
       "      <td>-0.351493</td>\n",
       "      <td>1.000000</td>\n",
       "      <td>0.369820</td>\n",
       "      <td>0.165464</td>\n",
       "      <td>0.076445</td>\n",
       "      <td>0.253110</td>\n",
       "      <td>0.345409</td>\n",
       "    </tr>\n",
       "    <tr>\n",
       "      <th>oldpeak</th>\n",
       "      <td>0.246984</td>\n",
       "      <td>0.056113</td>\n",
       "      <td>0.229230</td>\n",
       "      <td>0.106618</td>\n",
       "      <td>0.039519</td>\n",
       "      <td>0.062684</td>\n",
       "      <td>0.098591</td>\n",
       "      <td>-0.186849</td>\n",
       "      <td>0.369820</td>\n",
       "      <td>1.000000</td>\n",
       "      <td>0.139207</td>\n",
       "      <td>0.217945</td>\n",
       "      <td>0.214551</td>\n",
       "      <td>0.243727</td>\n",
       "    </tr>\n",
       "    <tr>\n",
       "      <th>slope</th>\n",
       "      <td>-0.024984</td>\n",
       "      <td>0.063177</td>\n",
       "      <td>0.074927</td>\n",
       "      <td>0.000372</td>\n",
       "      <td>-0.058404</td>\n",
       "      <td>0.001531</td>\n",
       "      <td>-0.104784</td>\n",
       "      <td>-0.295667</td>\n",
       "      <td>0.165464</td>\n",
       "      <td>0.139207</td>\n",
       "      <td>1.000000</td>\n",
       "      <td>-0.119742</td>\n",
       "      <td>0.038331</td>\n",
       "      <td>0.125728</td>\n",
       "    </tr>\n",
       "    <tr>\n",
       "      <th>ca</th>\n",
       "      <td>0.321673</td>\n",
       "      <td>0.025315</td>\n",
       "      <td>0.093902</td>\n",
       "      <td>0.037259</td>\n",
       "      <td>0.148186</td>\n",
       "      <td>0.173009</td>\n",
       "      <td>0.289584</td>\n",
       "      <td>-0.006800</td>\n",
       "      <td>0.076445</td>\n",
       "      <td>0.217945</td>\n",
       "      <td>-0.119742</td>\n",
       "      <td>1.000000</td>\n",
       "      <td>0.261602</td>\n",
       "      <td>0.073207</td>\n",
       "    </tr>\n",
       "    <tr>\n",
       "      <th>thal</th>\n",
       "      <td>0.222136</td>\n",
       "      <td>0.233270</td>\n",
       "      <td>0.239361</td>\n",
       "      <td>0.084489</td>\n",
       "      <td>-0.125926</td>\n",
       "      <td>0.084525</td>\n",
       "      <td>0.147006</td>\n",
       "      <td>-0.152521</td>\n",
       "      <td>0.253110</td>\n",
       "      <td>0.214551</td>\n",
       "      <td>0.038331</td>\n",
       "      <td>0.261602</td>\n",
       "      <td>1.000000</td>\n",
       "      <td>0.339031</td>\n",
       "    </tr>\n",
       "    <tr>\n",
       "      <th>num</th>\n",
       "      <td>0.225453</td>\n",
       "      <td>0.279127</td>\n",
       "      <td>0.434501</td>\n",
       "      <td>0.067330</td>\n",
       "      <td>-0.533687</td>\n",
       "      <td>0.019112</td>\n",
       "      <td>-0.000813</td>\n",
       "      <td>-0.450693</td>\n",
       "      <td>0.345409</td>\n",
       "      <td>0.243727</td>\n",
       "      <td>0.125728</td>\n",
       "      <td>0.073207</td>\n",
       "      <td>0.339031</td>\n",
       "      <td>1.000000</td>\n",
       "    </tr>\n",
       "  </tbody>\n",
       "</table>\n",
       "</div>"
      ],
      "text/plain": [
       "                 age       sex  chest_pain  trestbps  cholestrol       fbs  \\\n",
       "age         1.000000 -0.023624    0.145740  0.247017   -0.089696  0.154740   \n",
       "sex        -0.023624  1.000000    0.163370  0.003323   -0.199176  0.037774   \n",
       "chest_pain  0.145740  0.163370    1.000000 -0.009134   -0.182046 -0.026207   \n",
       "trestbps    0.247017  0.003323   -0.009134  1.000000    0.066543  0.120023   \n",
       "cholestrol -0.089696 -0.199176   -0.182046  0.066543    1.000000  0.097576   \n",
       "fbs         0.154740  0.037774   -0.026207  0.120023    0.097576  1.000000   \n",
       "restecg     0.223164 -0.036257   -0.002091  0.074495    0.143226  0.113193   \n",
       "thalach    -0.340013 -0.148256   -0.334507 -0.111419    0.272218  0.027782   \n",
       "exang       0.146912  0.147096    0.415408  0.118941   -0.054860  0.036641   \n",
       "oldpeak     0.246984  0.056113    0.229230  0.106618    0.039519  0.062684   \n",
       "slope      -0.024984  0.063177    0.074927  0.000372   -0.058404  0.001531   \n",
       "ca          0.321673  0.025315    0.093902  0.037259    0.148186  0.173009   \n",
       "thal        0.222136  0.233270    0.239361  0.084489   -0.125926  0.084525   \n",
       "num         0.225453  0.279127    0.434501  0.067330   -0.533687  0.019112   \n",
       "\n",
       "             restecg   thalach     exang   oldpeak     slope        ca  \\\n",
       "age         0.223164 -0.340013  0.146912  0.246984 -0.024984  0.321673   \n",
       "sex        -0.036257 -0.148256  0.147096  0.056113  0.063177  0.025315   \n",
       "chest_pain -0.002091 -0.334507  0.415408  0.229230  0.074927  0.093902   \n",
       "trestbps    0.074495 -0.111419  0.118941  0.106618  0.000372  0.037259   \n",
       "cholestrol  0.143226  0.272218 -0.054860  0.039519 -0.058404  0.148186   \n",
       "fbs         0.113193  0.027782  0.036641  0.062684  0.001531  0.173009   \n",
       "restecg     1.000000  0.082551  0.024909  0.098591 -0.104784  0.289584   \n",
       "thalach     0.082551  1.000000 -0.351493 -0.186849 -0.295667 -0.006800   \n",
       "exang       0.024909 -0.351493  1.000000  0.369820  0.165464  0.076445   \n",
       "oldpeak     0.098591 -0.186849  0.369820  1.000000  0.139207  0.217945   \n",
       "slope      -0.104784 -0.295667  0.165464  0.139207  1.000000 -0.119742   \n",
       "ca          0.289584 -0.006800  0.076445  0.217945 -0.119742  1.000000   \n",
       "thal        0.147006 -0.152521  0.253110  0.214551  0.038331  0.261602   \n",
       "num        -0.000813 -0.450693  0.345409  0.243727  0.125728  0.073207   \n",
       "\n",
       "                thal       num  \n",
       "age         0.222136  0.225453  \n",
       "sex         0.233270  0.279127  \n",
       "chest_pain  0.239361  0.434501  \n",
       "trestbps    0.084489  0.067330  \n",
       "cholestrol -0.125926 -0.533687  \n",
       "fbs         0.084525  0.019112  \n",
       "restecg     0.147006 -0.000813  \n",
       "thalach    -0.152521 -0.450693  \n",
       "exang       0.253110  0.345409  \n",
       "oldpeak     0.214551  0.243727  \n",
       "slope       0.038331  0.125728  \n",
       "ca          0.261602  0.073207  \n",
       "thal        1.000000  0.339031  \n",
       "num         0.339031  1.000000  "
      ]
     },
     "execution_count": 12,
     "metadata": {},
     "output_type": "execute_result"
    }
   ],
   "source": [
    "dataset.corr()"
   ]
  },
  {
   "cell_type": "markdown",
   "metadata": {
    "id": "IMSt5a4YY2Fh"
   },
   "source": [
    "# Note :\n",
    "1. The above heatmap and the correlation table suggests that all of the data features are significantly correlated with the target variables\n",
    "2. The following features are negatively correlated with the target variable :\n",
    "    1. cholestrol \n",
    "    2. thalach\n",
    "    \n",
    "# Further action :\n",
    "1. No feature drop is necessary due to significant correlation with target variable\n",
    "2. The target variable is considered to be \"num\" (last column of the dataset)"
   ]
  },
  {
   "cell_type": "markdown",
   "metadata": {
    "id": "vCJUUdraY2Fi"
   },
   "source": [
    "# B) Building the data model"
   ]
  },
  {
   "cell_type": "markdown",
   "metadata": {
    "id": "T3vfJ0DqY2Fj"
   },
   "source": [
    "## 1) Understanding the target variable"
   ]
  },
  {
   "cell_type": "code",
   "execution_count": 13,
   "metadata": {
    "colab": {
     "base_uri": "https://localhost:8080/",
     "height": 304
    },
    "executionInfo": {
     "elapsed": 540,
     "status": "error",
     "timestamp": 1650880347006,
     "user": {
      "displayName": "Pankaj More",
      "userId": "13297301438148653218"
     },
     "user_tz": -330
    },
    "id": "Ji-CazwXY2Fk",
    "outputId": "7072254d-fd51-44e6-fdb4-6dc34924c086"
   },
   "outputs": [
    {
     "data": {
      "text/plain": [
       "array([0, 1, 3, 2, 4], dtype=int64)"
      ]
     },
     "execution_count": 13,
     "metadata": {},
     "output_type": "execute_result"
    }
   ],
   "source": [
    "# checking the unique values (categories in the dataset)\n",
    "dataset.num.unique()"
   ]
  },
  {
   "cell_type": "markdown",
   "metadata": {
    "id": "QRZEoWtLY2Fk"
   },
   "source": [
    "# Note :\n",
    "1. The values beyond 0 are indicative of the fact that there is presence of heart disease\n",
    "\n",
    "# Further action :\n",
    "1. Binarize the target variable for the classes as presence or absence of heart disease"
   ]
  },
  {
   "cell_type": "markdown",
   "metadata": {
    "id": "_-Gg0YG2Y2Fl"
   },
   "source": [
    "## 2) Binarizing the target variable"
   ]
  },
  {
   "cell_type": "code",
   "execution_count": 14,
   "metadata": {
    "executionInfo": {
     "elapsed": 23,
     "status": "aborted",
     "timestamp": 1650880158980,
     "user": {
      "displayName": "Pankaj More",
      "userId": "13297301438148653218"
     },
     "user_tz": -330
    },
    "id": "09X-QI4jY2Fl"
   },
   "outputs": [],
   "source": [
    "dataset[\"num\"] = dataset[\"num\"].replace([2, 3, 4], 1)"
   ]
  },
  {
   "cell_type": "code",
   "execution_count": 15,
   "metadata": {
    "executionInfo": {
     "elapsed": 24,
     "status": "aborted",
     "timestamp": 1650880158981,
     "user": {
      "displayName": "Pankaj More",
      "userId": "13297301438148653218"
     },
     "user_tz": -330
    },
    "id": "Grt_UyOMY2Fm"
   },
   "outputs": [
    {
     "data": {
      "text/plain": [
       "array([0, 1], dtype=int64)"
      ]
     },
     "execution_count": 15,
     "metadata": {},
     "output_type": "execute_result"
    }
   ],
   "source": [
    "dataset.num.unique()"
   ]
  },
  {
   "cell_type": "markdown",
   "metadata": {
    "id": "AKhNxSzkY2Fn"
   },
   "source": [
    "## 3) Checking distribution of target variable"
   ]
  },
  {
   "cell_type": "code",
   "execution_count": 16,
   "metadata": {
    "executionInfo": {
     "elapsed": 23,
     "status": "aborted",
     "timestamp": 1650880158981,
     "user": {
      "displayName": "Pankaj More",
      "userId": "13297301438148653218"
     },
     "user_tz": -330
    },
    "id": "O4rzaeiXY2Fn"
   },
   "outputs": [
    {
     "data": {
      "image/png": "[encoded data removed]",
      "text/plain": [
       "<Figure size 576x576 with 1 Axes>"
      ]
     },
     "metadata": {
      "needs_background": "light"
     },
     "output_type": "display_data"
    }
   ],
   "source": [
    "# Plotting the count plot for target variable\n",
    "fig = plt.figure(figsize=(8, 8))\n",
    "\n",
    "# Adds subplot on position 1\n",
    "ax = fig.add_subplot(111)\n",
    "\n",
    "plt.xlabel(\"num\", fontsize=20)\n",
    "plt.ylabel(\"count\", fontsize=20)\n",
    "\n",
    "sns.countplot(x=dataset.num)\n",
    "plt.show()"
   ]
  },
  {
   "cell_type": "code",
   "execution_count": 17,
   "metadata": {
    "executionInfo": {
     "elapsed": 23,
     "status": "aborted",
     "timestamp": 1650880158981,
     "user": {
      "displayName": "Pankaj More",
      "userId": "13297301438148653218"
     },
     "user_tz": -330
    },
    "id": "gMxsdramY2Fo"
   },
   "outputs": [
    {
     "name": "stdout",
     "output_type": "stream",
     "text": [
      "Shape of target 1 data :  (326, 14)\n",
      "Shape of target 0 data :  (356, 14)\n"
     ]
    }
   ],
   "source": [
    "# creating subsets for target variables for fair distribution in training and testing datasets\n",
    "dataset_target_0 = dataset[dataset.num == 0]\n",
    "dataset_target_1 = dataset[dataset.num == 1]\n",
    "print(\"Shape of target 1 data : \", dataset_target_1.shape)\n",
    "print(\"Shape of target 0 data : \", dataset_target_0.shape)"
   ]
  },
  {
   "cell_type": "code",
   "execution_count": 18,
   "metadata": {
    "executionInfo": {
     "elapsed": 24,
     "status": "aborted",
     "timestamp": 1650880158982,
     "user": {
      "displayName": "Pankaj More",
      "userId": "13297301438148653218"
     },
     "user_tz": -330
    },
    "id": "udx--EhrY2Fp"
   },
   "outputs": [
    {
     "name": "stdout",
     "output_type": "stream",
     "text": [
      "Shape of target 1 data :  (326, 14)\n",
      "Shape of target 0 data :  (356, 14)\n"
     ]
    }
   ],
   "source": [
    "# Shuffling the data subsets\n",
    "dataset_target_1 = dataset_target_1.sample(frac=1)\n",
    "dataset_target_0 = dataset_target_0.sample(frac=1)\n",
    "\n",
    "# Confirming shapes for no value loss\n",
    "print(\"Shape of target 1 data : \", dataset_target_1.shape)\n",
    "print(\"Shape of target 0 data : \", dataset_target_0.shape)"
   ]
  },
  {
   "cell_type": "markdown",
   "metadata": {
    "id": "oCS4s6WBY2Fq"
   },
   "source": [
    "## 4) Creating training and testing data with 80:20 ratio"
   ]
  },
  {
   "cell_type": "code",
   "execution_count": 19,
   "metadata": {
    "executionInfo": {
     "elapsed": 23,
     "status": "aborted",
     "timestamp": 1650880158982,
     "user": {
      "displayName": "Pankaj More",
      "userId": "13297301438148653218"
     },
     "user_tz": -330
    },
    "id": "eqFXCLPJY2Fq"
   },
   "outputs": [
    {
     "name": "stdout",
     "output_type": "stream",
     "text": [
      "Training data shape :  (544, 14)\n",
      "Testing data shape  :  (138, 14)\n"
     ]
    }
   ],
   "source": [
    "# Calculating 80 percent mark\n",
    "target_0_mark = int(dataset_target_0.shape[0]*0.8)\n",
    "target_1_mark = int(dataset_target_1.shape[0]*0.8)\n",
    "\n",
    "# Generating train data\n",
    "train_data = pd.concat(\n",
    "    objs=[\n",
    "        dataset_target_0.iloc[:target_0_mark, :],\n",
    "        dataset_target_1.iloc[:target_1_mark, :]\n",
    "    ],\n",
    "    axis=0\n",
    ")\n",
    "\n",
    "# Generating test data\n",
    "test_data = pd.concat(\n",
    "    objs=[\n",
    "        dataset_target_0.iloc[target_0_mark:, :],\n",
    "        dataset_target_1.iloc[target_1_mark:, :]\n",
    "    ],\n",
    "    axis=0\n",
    ")\n",
    "\n",
    "# Shuffling the training and testing data\n",
    "train_data = train_data.sample(frac=1)\n",
    "test_data = test_data.sample(frac=1)\n",
    "\n",
    "# Checking data shapes\n",
    "print(\"Training data shape : \", train_data.shape)\n",
    "print(\"Testing data shape  : \", test_data.shape)"
   ]
  },
  {
   "cell_type": "markdown",
   "metadata": {
    "id": "uD-1wG9UY2Fr"
   },
   "source": [
    "## 5) Splitting training and testing inputs and targets"
   ]
  },
  {
   "cell_type": "code",
   "execution_count": 20,
   "metadata": {
    "executionInfo": {
     "elapsed": 21,
     "status": "aborted",
     "timestamp": 1650880158983,
     "user": {
      "displayName": "Pankaj More",
      "userId": "13297301438148653218"
     },
     "user_tz": -330
    },
    "id": "Xsxf1WsLY2Fs"
   },
   "outputs": [
    {
     "name": "stdout",
     "output_type": "stream",
     "text": [
      "Train inputs shape :  (544, 13)\n",
      "Train targets shape :  (544,)\n",
      "Test inputs shape :  (138, 13)\n",
      "Test targets shape :  (138,)\n"
     ]
    }
   ],
   "source": [
    "# Splitting training data\n",
    "train_inputs = train_data.iloc[:, :-1]\n",
    "train_targets = train_data.iloc[:, -1]\n",
    "\n",
    "# Splitting testing data\n",
    "test_inputs = test_data.iloc[:, :-1]\n",
    "test_targets = test_data.iloc[:, -1]\n",
    "\n",
    "# Checking shape of data\n",
    "print(\"Train inputs shape : \", train_inputs.shape)\n",
    "print(\"Train targets shape : \", train_targets.shape)\n",
    "print(\"Test inputs shape : \", test_inputs.shape)\n",
    "print(\"Test targets shape : \", test_targets.shape)"
   ]
  },
  {
   "cell_type": "markdown",
   "metadata": {
    "id": "Pp3SUGiyY2Fs"
   },
   "source": [
    "# 6) Building the data model"
   ]
  },
  {
   "cell_type": "code",
   "execution_count": 21,
   "metadata": {
    "executionInfo": {
     "elapsed": 20,
     "status": "aborted",
     "timestamp": 1650880158983,
     "user": {
      "displayName": "Pankaj More",
      "userId": "13297301438148653218"
     },
     "user_tz": -330
    },
    "id": "ZC4qHpjJY2Ft"
   },
   "outputs": [],
   "source": [
    "# Importing model\n",
    "from sklearn.linear_model import LogisticRegression"
   ]
  },
  {
   "cell_type": "code",
   "execution_count": 22,
   "metadata": {
    "executionInfo": {
     "elapsed": 21,
     "status": "aborted",
     "timestamp": 1650880158984,
     "user": {
      "displayName": "Pankaj More",
      "userId": "13297301438148653218"
     },
     "user_tz": -330
    },
    "id": "Y1vHpIqMY2Ft"
   },
   "outputs": [],
   "source": [
    "logReg_model = LogisticRegression()"
   ]
  },
  {
   "cell_type": "code",
   "execution_count": 23,
   "metadata": {
    "executionInfo": {
     "elapsed": 21,
     "status": "aborted",
     "timestamp": 1650880158984,
     "user": {
      "displayName": "Pankaj More",
      "userId": "13297301438148653218"
     },
     "user_tz": -330
    },
    "id": "vsfNjX0iY2Ft"
   },
   "outputs": [
    {
     "name": "stdout",
     "output_type": "stream",
     "text": [
      "Model trained\n"
     ]
    }
   ],
   "source": [
    "# Training the model\n",
    "logReg_model.fit(train_inputs, train_targets)\n",
    "print(\"Model trained\")"
   ]
  },
  {
   "cell_type": "markdown",
   "metadata": {
    "id": "4uheq02mY2Fu"
   },
   "source": [
    "# 7) Checking accuracy of model on testing data"
   ]
  },
  {
   "cell_type": "code",
   "execution_count": 24,
   "metadata": {
    "executionInfo": {
     "elapsed": 21,
     "status": "aborted",
     "timestamp": 1650880158985,
     "user": {
      "displayName": "Pankaj More",
      "userId": "13297301438148653218"
     },
     "user_tz": -330
    },
    "id": "bSi0jp_iY2Fu"
   },
   "outputs": [
    {
     "data": {
      "text/plain": [
       "0.8333333333333334"
      ]
     },
     "execution_count": 24,
     "metadata": {},
     "output_type": "execute_result"
    }
   ],
   "source": [
    "logReg_model.score(test_inputs, test_targets)"
   ]
  },
  {
   "cell_type": "code",
   "execution_count": 25,
   "metadata": {
    "executionInfo": {
     "elapsed": 21,
     "status": "aborted",
     "timestamp": 1650880158985,
     "user": {
      "displayName": "Pankaj More",
      "userId": "13297301438148653218"
     },
     "user_tz": -330
    },
    "id": "iDVmi_3DY2Fv"
   },
   "outputs": [
    {
     "data": {
      "text/plain": [
       "0.8272058823529411"
      ]
     },
     "execution_count": 25,
     "metadata": {},
     "output_type": "execute_result"
    }
   ],
   "source": [
    "logReg_model.score(train_inputs, train_targets)"
   ]
  },
  {
   "cell_type": "markdown",
   "metadata": {
    "id": "_1BxYZj5Y2Fv"
   },
   "source": [
    "# Conclusion\n",
    "1. The logistic regression model was fit on the given dataset\n",
    "2. The model gave 89.85% accuracy on testing data and 82.53% accuracy on testing data"
   ]
  },
  {
   "cell_type": "markdown",
   "metadata": {
    "id": "fdb0emfrY2Fw"
   },
   "source": [
    "<center><h1>End of Notebook</h1></center>"
   ]
  }
 ],
 "metadata": {
  "colab": {
   "collapsed_sections": [],
   "name": "33341_heart_disease_data_model.ipynb",
   "provenance": []
  },
  "kernelspec": {
   "display_name": "Python 3",
   "language": "python",
   "name": "python3"
  },
  "language_info": {
   "codemirror_mode": {
    "name": "ipython",
    "version": 3
   },
   "file_extension": ".py",
   "mimetype": "text/x-python",
   "name": "python",
   "nbconvert_exporter": "python",
   "pygments_lexer": "ipython3",
   "version": "3.8.8"
  }
 },
 "nbformat": 4,
 "nbformat_minor": 1
}
